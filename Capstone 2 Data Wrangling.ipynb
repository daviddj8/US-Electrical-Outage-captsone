{
 "cells": [
  {
   "cell_type": "markdown",
   "id": "dffc2c59-4055-43a5-b02e-28f422690e80",
   "metadata": {},
   "source": [
    "# Data Collection"
   ]
  },
  {
   "cell_type": "markdown",
   "id": "f8f168b2-188b-476e-8a1c-79829cd9433f",
   "metadata": {},
   "source": [
    "This analysis will include data from three sources:\n",
    "1. **Outage Data**: Major US electrical outages from 2002 - 2023 as recorded by the Department of Energy (DOE)(https://www.oe.netl.doe.gov/OE417_annual_summary.aspx)\n",
    "2. **Weather Data**: Local weather at the time of the outage event as recorded by the National Oceanic and Atomospheric Administration (NOAA) (https://www.weather.gov/wrh/climate)\n",
    "3. **Energy Demand and Generation Data**: Levels of energy demand and the generation mix at the time and location of the outage event as recorded by the Energy Information Administration (EIA) (https://www.eia.gov/electricity/gridmonitor/dashboard/electric_overview/regional/REG-CAL)"
   ]
  },
  {
   "cell_type": "markdown",
   "id": "ddff91b8-2a88-484a-8d6d-4699c1ee4192",
   "metadata": {},
   "source": [
    "## Imports"
   ]
  },
  {
   "cell_type": "code",
   "execution_count": 3,
   "id": "12490c3f-581d-44da-9286-6707ae4155d0",
   "metadata": {},
   "outputs": [],
   "source": [
    "# Import necessary modules to collect data\n",
    "\n",
    "import pandas as pd\n",
    "import matplotlib.pyplot as plt\n",
    "import seaborn as sns"
   ]
  },
  {
   "cell_type": "markdown",
   "id": "5711ab73-5fed-4901-831f-e38fd471a23d",
   "metadata": {},
   "source": [
    "## Outage Data"
   ]
  },
  {
   "cell_type": "code",
   "execution_count": 4,
   "id": "2db5637c-a549-48ed-b0c1-628578dc8aba",
   "metadata": {},
   "outputs": [
    {
     "ename": "SyntaxError",
     "evalue": "invalid syntax (213494321.py, line 2)",
     "output_type": "error",
     "traceback": [
      "\u001b[0;36m  Cell \u001b[0;32mIn[4], line 2\u001b[0;36m\u001b[0m\n\u001b[0;31m    This code imports each spreadsheet from the link above, adds a year column to the data, and combines all the separate excel sheets into one dataset.\u001b[0m\n\u001b[0m         ^\u001b[0m\n\u001b[0;31mSyntaxError\u001b[0m\u001b[0;31m:\u001b[0m invalid syntax\n"
     ]
    }
   ],
   "source": [
    "# The outage data is formatted as a separate excel spreadsheet for each year.  \n",
    "# The code below imports each spreadsheet from the link above, adds a year column to the data, and combines all the separate excel sheets into one dataset.\n",
    "\n"
   ]
  }
 ],
 "metadata": {
  "kernelspec": {
   "display_name": "Python 3 (ipykernel)",
   "language": "python",
   "name": "python3"
  },
  "language_info": {
   "codemirror_mode": {
    "name": "ipython",
    "version": 3
   },
   "file_extension": ".py",
   "mimetype": "text/x-python",
   "name": "python",
   "nbconvert_exporter": "python",
   "pygments_lexer": "ipython3",
   "version": "3.11.5"
  }
 },
 "nbformat": 4,
 "nbformat_minor": 5
}
